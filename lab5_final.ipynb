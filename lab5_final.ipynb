{
 "metadata": {
  "language_info": {
   "codemirror_mode": {
    "name": "ipython",
    "version": 3
   },
   "file_extension": ".py",
   "mimetype": "text/x-python",
   "name": "python",
   "nbconvert_exporter": "python",
   "pygments_lexer": "ipython3",
   "version": "3.9.0-final"
  },
  "orig_nbformat": 2,
  "kernelspec": {
   "name": "python3",
   "display_name": "Python 3.9.0 64-bit",
   "metadata": {
    "interpreter": {
     "hash": "c1ef2f8b79dc52c4557486c60f64f66586a2248fb98d07a45866e90e67ba34a6"
    }
   }
  }
 },
 "nbformat": 4,
 "nbformat_minor": 2,
 "cells": [
  {
   "cell_type": "code",
   "execution_count": 2,
   "metadata": {},
   "outputs": [
    {
     "output_type": "stream",
     "name": "stdout",
     "text": [
      "81.67816781678168\n"
     ]
    }
   ],
   "source": [
    "import numpy as np\n",
    "import matplotlib.pyplot as plt\n",
    "import pandas as pd\n",
    "import scipy.linalg as la\n",
    "import math\n",
    "import random\n",
    "from scipy.fftpack import fft,fftfreq\n",
    "from scipy.linalg import toeplitz\n",
    "from itertools import count\n",
    "from sklearn.model_selection import train_test_split\n",
    "data1 = pd.read_csv('mnist_train.csv')\n",
    "data2 = pd.read_csv('mnist_test.csv')\n",
    "Y_train = np.asfarray(data1.iloc[:,0])\n",
    "X_train = np.asfarray(data1.iloc[:,1:])\n",
    "Y_test = np.asfarray(data2.iloc[:,0])\n",
    "X_test = np.asfarray(data2.iloc[:,1:])\n",
    "Y_test=Y_test.reshape((len(Y_test),))\n",
    "Y_train=Y_train.reshape((len(Y_train),))\n",
    "\n",
    "cov_all = []\n",
    "mean_all = []\n",
    "po=np.zeros((10))\n",
    "for k in range(10):\n",
    "    tmp = X_train[[i for i, j in zip(count(), Y_train) if j == k],:]\n",
    "    cov_all.append((np.cov(tmp.T,bias=True)*np.identity(784)))\n",
    "    mean_all.append(np.mean(tmp,axis = 0))\n",
    "    po[k] = np.log(len(tmp)/Y_train.shape[0])\n",
    "coin=np.zeros((10,784,784))\n",
    "mean_all=np.array(mean_all)\n",
    "cov_all=np.asfarray(cov_all)\n",
    "for k in range(10):\n",
    "    coin[k]=np.linalg.pinv(cov_all[k])\n",
    "ypred=[]\n",
    "for i in range(len(Y_test)):\n",
    "    max=[]\n",
    "    for k in range(10):\n",
    "        temp =X_test[i]-mean_all[k]\n",
    "        temp1 = (-1/2)*np.dot(temp,np.dot(coin[k],(temp.T)))\n",
    "        max.append(temp1 + po[k])\n",
    "    ypred.append(np.argmax(max))\n",
    "ypred=np.array(ypred)\n",
    "ac = (ypred[:]==Y_test[:]).mean()\n",
    "print((ac)*100)"
   ]
  }
 ]
}